{
 "cells": [
  {
   "cell_type": "code",
   "execution_count": 1,
   "metadata": {},
   "outputs": [],
   "source": [
    "\n",
    "import pandas as pd\n",
    "import tensorflow as tf\n",
    "import matplotlib.pyplot as plt\n",
    "import numpy as np\n",
    "tf.enable_eager_execution()\n",
    "\n",
    "\n",
    "train = pd.read_csv(\"digit-recognizer/train.csv\")"
   ]
  },
  {
   "cell_type": "code",
   "execution_count": 2,
   "metadata": {},
   "outputs": [
    {
     "name": "stdout",
     "output_type": "stream",
     "text": [
      "(42000, 784)\n"
     ]
    }
   ],
   "source": [
    "\n",
    "\n",
    "train_x = train.loc[:,\"pixel0\":]\n",
    "train_y = train.loc[:,\"label\"]\n",
    "\n",
    "train_images = train_x / 256.\n",
    "train_images = train_images.to_numpy()\n",
    "\n",
    "print(train_images.shape)\n",
    "\n",
    "\n"
   ]
  },
  {
   "cell_type": "code",
   "execution_count": 3,
   "metadata": {},
   "outputs": [
    {
     "name": "stdout",
     "output_type": "stream",
     "text": [
      "(28, 28)\n"
     ]
    },
    {
     "data": {
      "text/plain": [
       "<matplotlib.image.AxesImage at 0x1e5597ed6c8>"
      ]
     },
     "execution_count": 3,
     "metadata": {},
     "output_type": "execute_result"
    },
    {
     "data": {
      "image/png": "[encoded data removed]",
      "text/plain": [
       "<Figure size 288x288 with 1 Axes>"
      ]
     },
     "metadata": {
      "needs_background": "light"
     },
     "output_type": "display_data"
    }
   ],
   "source": [
    "# show picture\n",
    "\n",
    "one_pic = train_images[5]\n",
    "one_pic = one_pic.reshape(28,28)\n",
    "print(one_pic.shape)\n",
    "\n",
    "plt.matshow(one_pic, cmap=plt.get_cmap('gray'))"
   ]
  },
  {
   "cell_type": "code",
   "execution_count": 4,
   "metadata": {},
   "outputs": [],
   "source": [
    "# one layer version\n",
    "\n",
    "\n",
    "\n",
    "\n",
    "# 將元件級的層定義清楚\n",
    "encoder = tf.keras.Sequential([\n",
    "    tf.keras.layers.Dense(784,activation='relu'),\n",
    "    tf.keras.layers.Dense(256, activation='relu'),\n",
    "    tf.keras.layers.Dense(64, activation='relu'),\n",
    "    tf.keras.layers.Dense(64, activation='relu'),\n",
    "])\n",
    "\n",
    "decoder = tf.keras.Sequential([\n",
    "           \n",
    "    tf.keras.layers.Dense(64, activation='relu'),\n",
    "     tf.keras.layers.Dense(256, activation='relu'),\n",
    "    tf.keras.layers.Dense(784, activation='relu'),\n",
    "          \n",
    "])\n",
    "\n",
    "autoencoder = tf.keras.Sequential([\n",
    "    encoder , \n",
    "    decoder ,\n",
    "])  \n",
    "\n",
    "\n"
   ]
  },
  {
   "cell_type": "code",
   "execution_count": 5,
   "metadata": {},
   "outputs": [],
   "source": [
    "autoencoder.compile(optimizer='adam', loss=tf.keras.losses.MeanSquaredError())"
   ]
  },
  {
   "cell_type": "code",
   "execution_count": 6,
   "metadata": {},
   "outputs": [
    {
     "name": "stdout",
     "output_type": "stream",
     "text": [
      "Train on 42000 samples\n",
      "Epoch 1/5\n",
      "42000/42000 [==============================] - 10s 248us/sample - loss: 0.0236\n",
      "Epoch 2/5\n",
      "42000/42000 [==============================] - 9s 208us/sample - loss: 0.0152\n",
      "Epoch 3/5\n",
      "42000/42000 [==============================] - 9s 208us/sample - loss: 0.0138\n",
      "Epoch 4/5\n",
      "42000/42000 [==============================] - 9s 209us/sample - loss: 0.0130\n",
      "Epoch 5/5\n",
      "42000/42000 [==============================] - 9s 210us/sample - loss: 0.0125\n"
     ]
    },
    {
     "data": {
      "text/plain": [
       "<tensorflow.python.keras.callbacks.History at 0x1e55aebeb88>"
      ]
     },
     "execution_count": 6,
     "metadata": {},
     "output_type": "execute_result"
    }
   ],
   "source": [
    "#train_images = train_images.to_numpy()\n",
    "\n",
    "\n",
    "autoencoder.fit(train_images  , train_images ,epochs=5)"
   ]
  },
  {
   "cell_type": "code",
   "execution_count": 7,
   "metadata": {},
   "outputs": [
    {
     "name": "stdout",
     "output_type": "stream",
     "text": [
      "(28, 28)\n"
     ]
    },
    {
     "data": {
      "text/plain": [
       "<matplotlib.image.AxesImage at 0x1e5d9d72208>"
      ]
     },
     "execution_count": 7,
     "metadata": {},
     "output_type": "execute_result"
    },
    {
     "data": {
      "image/png": "[encoded data removed]",
      "text/plain": [
       "<Figure size 288x288 with 1 Axes>"
      ]
     },
     "metadata": {
      "needs_background": "light"
     },
     "output_type": "display_data"
    }
   ],
   "source": [
    "\n",
    "\n",
    "one_pic = train.loc[5,\"pixel0\":]\n",
    "one_pic = one_pic.to_numpy()\n",
    "one_pic = one_pic.reshape(1,784)\n",
    "one_pic = autoencoder.predict(one_pic/256)\n",
    "one_pic = one_pic.reshape(28,28)\n",
    "print(one_pic.shape)\n",
    "\n",
    "plt.matshow(one_pic, cmap=plt.get_cmap('gray'))"
   ]
  },
  {
   "cell_type": "code",
   "execution_count": 44,
   "metadata": {},
   "outputs": [
    {
     "name": "stdout",
     "output_type": "stream",
     "text": [
      "[[ 95.057014    3.2991128   0.          0.          0.         54.18727\n",
      "   75.90212    76.0453     27.019297    0.          0.          0.\n",
      "   81.44365    12.215361   39.02267     0.        130.90895   102.78191\n",
      "    1.6283069   0.          0.         61.564644   23.355001   40.62632\n",
      "    0.         60.321873    0.         28.499002  117.30807   137.35852\n",
      "   68.8325      0.         36.76481    22.51265   103.28131     0.\n",
      "   60.185783    0.          0.        121.06594     0.          0.\n",
      "   71.982666    0.         14.022621   97.63801    54.003967    0.\n",
      "   38.713997    0.         10.232217    0.         64.12064     0.\n",
      "  100.48294     6.767102    3.4900649   0.         78.95405    84.04832\n",
      "   41.966667   73.93942     0.         53.629654 ]]\n"
     ]
    }
   ],
   "source": [
    "import numpy\n",
    "\n",
    "one_pic = train_images[5]\n",
    "one_pic = one_pic.reshape(1,784)\n",
    "\n",
    "vector = encoder(one_pic).numpy()\n",
    "print(vector)"
   ]
  },
  {
   "cell_type": "code",
   "execution_count": 53,
   "metadata": {},
   "outputs": [],
   "source": [
    "# CNN autoencoder\n",
    "\n",
    "train_images_reshape = train_images.reshape(42000,28,28,1)\n",
    "\n",
    "encoder = tf.keras.Sequential([\n",
    "    tf.keras.layers.Input(shape=(28, 28, 1)),\n",
    "    tf.keras.layers.Conv2D(16, (3, 3), activation='relu', padding='same', strides=2),\n",
    "    tf.keras.layers.Conv2D(8, (3, 3), activation='relu', padding='same', strides=2)\n",
    "])\n",
    "\n",
    "\n",
    "decoder = tf.keras.Sequential([\n",
    "      tf.keras.layers.Conv2DTranspose(8, kernel_size=3, strides=2, activation='relu', padding='same'),\n",
    "      tf.keras.layers.Conv2DTranspose(16, kernel_size=3, strides=2, activation='relu', padding='same'),\n",
    "      tf.keras.layers.Conv2D(1, kernel_size=(3, 3), activation='sigmoid', padding='same')\n",
    "])\n",
    "\n",
    "autoencoder = tf.keras.Sequential([\n",
    "    encoder , \n",
    "    decoder ,\n",
    "])  "
   ]
  },
  {
   "cell_type": "code",
   "execution_count": 62,
   "metadata": {},
   "outputs": [
    {
     "name": "stdout",
     "output_type": "stream",
     "text": [
      "Train on 42000 samples\n",
      "Epoch 1/5\n",
      "42000/42000 [==============================] - 11s 266us/sample - loss: 0.0011\n",
      "Epoch 2/5\n",
      "42000/42000 [==============================] - 11s 261us/sample - loss: 9.2284e-04\n",
      "Epoch 3/5\n",
      "42000/42000 [==============================] - 11s 260us/sample - loss: 7.8961e-04\n",
      "Epoch 4/5\n",
      "42000/42000 [==============================] - 11s 261us/sample - loss: 7.3599e-04\n",
      "Epoch 5/5\n",
      "42000/42000 [==============================] - 11s 260us/sample - loss: 7.0221e-04\n"
     ]
    },
    {
     "data": {
      "text/plain": [
       "<tensorflow.python.keras.callbacks.History at 0x211ae1d6808>"
      ]
     },
     "execution_count": 62,
     "metadata": {},
     "output_type": "execute_result"
    }
   ],
   "source": [
    "autoencoder.compile(optimizer='adam', loss=tf.keras.losses.MeanSquaredError())\n",
    "autoencoder.fit(train_images_reshape  ,train_images_reshape  ,epochs=5)"
   ]
  },
  {
   "cell_type": "code",
   "execution_count": 63,
   "metadata": {},
   "outputs": [
    {
     "name": "stdout",
     "output_type": "stream",
     "text": [
      "(1, 28, 28, 1)\n"
     ]
    },
    {
     "data": {
      "text/plain": [
       "<matplotlib.image.AxesImage at 0x2126a785188>"
      ]
     },
     "execution_count": 63,
     "metadata": {},
     "output_type": "execute_result"
    },
    {
     "data": {
      "image/png": "[encoded data removed]",
      "text/plain": [
       "<Figure size 288x288 with 1 Axes>"
      ]
     },
     "metadata": {
      "needs_background": "light"
     },
     "output_type": "display_data"
    }
   ],
   "source": [
    "one_pic = train_images_reshape[5]\n",
    "one_pic = one_pic.reshape(1,28,28,1)\n",
    "one_pic = autoencoder.predict(one_pic)\n",
    "\n",
    "print(one_pic.shape)\n",
    "one_pic = one_pic.reshape(28,28)\n",
    "plt.matshow(one_pic, cmap=plt.get_cmap('gray'))"
   ]
  },
  {
   "cell_type": "code",
   "execution_count": null,
   "metadata": {},
   "outputs": [],
   "source": []
  }
 ],
 "metadata": {
  "kernelspec": {
   "display_name": "Python 3",
   "language": "python",
   "name": "python3"
  },
  "language_info": {
   "codemirror_mode": {
    "name": "ipython",
    "version": 3
   },
   "file_extension": ".py",
   "mimetype": "text/x-python",
   "name": "python",
   "nbconvert_exporter": "python",
   "pygments_lexer": "ipython3",
   "version": "3.7.6"
  }
 },
 "nbformat": 4,
 "nbformat_minor": 2
}
