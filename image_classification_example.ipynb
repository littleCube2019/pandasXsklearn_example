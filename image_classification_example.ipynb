{
 "cells": [
  {
   "cell_type": "code",
   "execution_count": null,
   "metadata": {},
   "outputs": [],
   "source": [
    "import pandas as pd\n",
    "import tensorflow as tf\n",
    "import matplotlib.pyplot as plt\n",
    "import numpy as np"
   ]
  },
  {
   "cell_type": "code",
   "execution_count": null,
   "metadata": {},
   "outputs": [],
   "source": [
    "train = pd.read_csv(\"digit-recognizer/train.csv\")"
   ]
  },
  {
   "cell_type": "code",
   "execution_count": null,
   "metadata": {},
   "outputs": [],
   "source": [
    "print(train)\n",
    "\n",
    "train_x = train.loc[:,\"pixel0\":]\n",
    "train_y = train.loc[:,\"label\"]\n"
   ]
  },
  {
   "cell_type": "code",
   "execution_count": null,
   "metadata": {},
   "outputs": [],
   "source": [
    "# show picture\n",
    "one_pic = train.loc[2,\"pixel0\":]\n",
    "one_pic = one_pic.to_numpy()\n",
    "one_pic = one_pic.reshape(28,28)\n",
    "print(one_pic.shape)\n",
    "\n",
    "plt.matshow(one_pic, cmap=plt.get_cmap('gray'))"
   ]
  },
  {
   "cell_type": "code",
   "execution_count": null,
   "metadata": {},
   "outputs": [],
   "source": [
    "train_x_reshape = []\n",
    "\n",
    "for i in range(len(train_x)):\n",
    "    train_x_reshape.append(train_x.loc[i,:].to_numpy().reshape(28,28,1))  # for cNN，need more dim \n",
    "train_x_reshape = np.array(train_x_reshape)"
   ]
  },
  {
   "cell_type": "code",
   "execution_count": null,
   "metadata": {},
   "outputs": [],
   "source": [
    "# flatten version \n",
    "\n",
    "model = tf.keras.models.Sequential([\n",
    "\n",
    "  tf.keras.layers.Dense(512, activation='relu'),\n",
    "  tf.keras.layers.Dropout(0.4),\n",
    "  tf.keras.layers.Dense(512, activation='relu'),\n",
    "  tf.keras.layers.Dropout(0.2),\n",
    "  tf.keras.layers.Dense(512, activation='relu'),\n",
    "  tf.keras.layers.Dropout(0.2),\n",
    "  tf.keras.layers.Dense(512, activation='relu'),\n",
    "  tf.keras.layers.Dropout(0.2),\n",
    "  \n",
    "  tf.keras.layers.Dense(10),\n",
    "])"
   ]
  },
  {
   "cell_type": "code",
   "execution_count": null,
   "metadata": {},
   "outputs": [],
   "source": [
    "# cNN version\n",
    "model = tf.keras.models.Sequential([\n",
    "\n",
    "  tf.keras.layers.Conv2D(28, (3, 3), activation='relu', input_shape=(28, 28,1)),\n",
    "  tf.keras.layers.MaxPooling2D((2, 2)),\n",
    "  tf.keras.layers.Conv2D(64, (3, 3), activation='relu'),\n",
    "  tf.keras.layers.MaxPooling2D((2, 2)),\n",
    "  tf.keras.layers.Conv2D(64, (3, 3), activation='relu'),\n",
    "\n",
    "  tf.keras.layers.Flatten(),\n",
    "  tf.keras.layers.Dense(64, activation='relu'),\n",
    "  tf.keras.layers.Dense(10),\n",
    "])"
   ]
  },
  {
   "cell_type": "code",
   "execution_count": null,
   "metadata": {},
   "outputs": [],
   "source": [
    "loss_fn = tf.keras.losses.SparseCategoricalCrossentropy(from_logits=True)"
   ]
  },
  {
   "cell_type": "code",
   "execution_count": null,
   "metadata": {},
   "outputs": [],
   "source": [
    "model.compile(optimizer='adam',\n",
    "              loss=loss_fn,\n",
    "              metrics=['accuracy'])\n",
    "model.summary()"
   ]
  },
  {
   "cell_type": "code",
   "execution_count": null,
   "metadata": {},
   "outputs": [],
   "source": [
    "model.fit(train_x_reshape, train_y, epochs=10)"
   ]
  },
  {
   "cell_type": "code",
   "execution_count": null,
   "metadata": {},
   "outputs": [],
   "source": [
    "test = pd.read_csv(\"digit-recognizer/test.csv\")"
   ]
  },
  {
   "cell_type": "code",
   "execution_count": null,
   "metadata": {},
   "outputs": [],
   "source": [
    "test_x = test.loc[:,\"pixel0\":]\n"
   ]
  },
  {
   "cell_type": "code",
   "execution_count": null,
   "metadata": {},
   "outputs": [],
   "source": [
    "test_x_reshape = []\n",
    "\n",
    "for i in range(len(test_x)):\n",
    "    test_x_reshape.append(test_x.loc[i,:].to_numpy().reshape(28,28,1))\n",
    "test_x_reshape = np.array(test_x_reshape)"
   ]
  },
  {
   "cell_type": "code",
   "execution_count": null,
   "metadata": {},
   "outputs": [],
   "source": [
    "import numpy as np\n",
    "predict = model.predict(test_x_reshape)\n",
    "test_y_hat = []\n",
    "for i in range(len(predict)):\n",
    "    test_y_hat.append(np.argmax(predict[i]))"
   ]
  },
  {
   "cell_type": "code",
   "execution_count": null,
   "metadata": {},
   "outputs": [],
   "source": [
    "print(test_y_hat)"
   ]
  },
  {
   "cell_type": "code",
   "execution_count": null,
   "metadata": {},
   "outputs": [],
   "source": [
    "predict = model.predict(train_x_reshape)\n",
    "train_y_hat = []\n",
    "for i in range(len(predict)):\n",
    "    train_y_hat.append(np.argmax(predict[i]))"
   ]
  },
  {
   "cell_type": "code",
   "execution_count": null,
   "metadata": {},
   "outputs": [],
   "source": [
    "m = tf.keras.metrics.Accuracy()\n",
    "m.update_state(train_y_hat, train_y)\n",
    "m.result().numpy()\n",
    "\n",
    "# train 0.95730954 (128兩層)\n",
    "# test  0.94128\n",
    "\n",
    "# train 0.96859527 (512 五層)\n",
    "# test  0.95603\n",
    "\n",
    "# train 0.99609524 (CNN 3層)\n",
    "# test 0.98367     \n",
    "# 比較參數 512 五層 卻有 1,195,018\n",
    "# CNN 3層  只有            90,978  個 trainable parameter \n",
    "\n",
    "# 這就是架構不同的力量 !! (CN有參考到2D相鄰資訊)"
   ]
  },
  {
   "cell_type": "code",
   "execution_count": null,
   "metadata": {},
   "outputs": [],
   "source": []
  },
  {
   "cell_type": "code",
   "execution_count": null,
   "metadata": {},
   "outputs": [],
   "source": [
    "# show the wrong case\n",
    "import time\n",
    "for i in range(len(train_x)):\n",
    "    if train_y_hat[i] != train_y[i]:\n",
    "        print(i)\n",
    "        one_pic = train_x.loc[i,:]\n",
    "        one_pic = one_pic.to_numpy()\n",
    "        one_pic = one_pic.reshape(28,28)\n",
    "        #print(one_pic.shape)\n",
    "        print(train_y_hat[i] , train_y[i])\n",
    "        plt.matshow(one_pic, cmap=plt.get_cmap('gray'))\n",
    "        time.sleep(2)"
   ]
  },
  {
   "cell_type": "code",
   "execution_count": null,
   "metadata": {},
   "outputs": [],
   "source": [
    "# try add one more KNN layer \n",
    "\n",
    "# make knn X and y \n",
    "train_x_ten_dim = model.predict(train_x_reshape)\n",
    "test_x_ten_dim = model.predict(test_x_reshape)\n",
    "\n",
    "# check point :  print(train_y_ten_dim[0] , train_y[0])\n",
    "\n",
    "\n",
    "\n",
    "# KNN model\n",
    "from sklearn.neighbors import KNeighborsClassifier\n",
    "\n",
    "\n",
    "neigh = KNeighborsClassifier(n_neighbors=10)\n",
    "\n",
    "\n",
    "\n",
    "neigh.fit(train_x_ten_dim, train_y)\n",
    "\n",
    "# KNN效果提升  0.98367 ==> 0.98517\n",
    "# 但其實沒有很明顯"
   ]
  },
  {
   "cell_type": "code",
   "execution_count": null,
   "metadata": {},
   "outputs": [],
   "source": [
    "knn_train_y_hat = neigh.predict(train_x_ten_dim)\n",
    "\n"
   ]
  },
  {
   "cell_type": "code",
   "execution_count": null,
   "metadata": {},
   "outputs": [],
   "source": [
    "m = tf.keras.metrics.Accuracy()\n",
    "m.update_state(knn_train_y_hat, train_y)\n",
    "m.result().numpy()  \n",
    "# 提升0.99259526 ==> 0.9957857"
   ]
  },
  {
   "cell_type": "code",
   "execution_count": null,
   "metadata": {},
   "outputs": [],
   "source": [
    "# show knn the wrong case\n",
    "import time\n",
    "for i in range(len(train_x)):\n",
    "    if train_y_hat[i] != train_y[i]:\n",
    "        print(i)\n",
    "        one_pic = train_x.loc[i,:]\n",
    "        one_pic = one_pic.to_numpy()\n",
    "        one_pic = one_pic.reshape(28,28)\n",
    "        #print(one_pic.shape)\n",
    "        print(train_y_hat[i] , train_y[i])\n",
    "        plt.matshow(one_pic, cmap=plt.get_cmap('gray'))\n",
    "        time.sleep(0.5)"
   ]
  },
  {
   "cell_type": "code",
   "execution_count": null,
   "metadata": {},
   "outputs": [],
   "source": [
    "test_y_hat = neigh.predict(test_x_ten_dim)"
   ]
  },
  {
   "cell_type": "code",
   "execution_count": null,
   "metadata": {},
   "outputs": [],
   "source": [
    "# make answer.csv\n",
    "temp = {\"ImageId\":[],\"Label\":[]}\n",
    "count = 1\n",
    "\n",
    "for i in test_y_hat:\n",
    "    \n",
    "    temp[\"ImageId\"].append(count)\n",
    "    \n",
    "    #temp[\"SalePrice\"].append((i)**2)\n",
    "    temp[\"Label\"].append(i)\n",
    "    count+=1\n",
    "\n",
    "temp = pd.DataFrame(temp)\n",
    "!del answer.csv\n",
    "temp.to_csv(\"answer.csv\",index=False)"
   ]
  },
  {
   "cell_type": "code",
   "execution_count": null,
   "metadata": {},
   "outputs": [],
   "source": []
  }
 ],
 "metadata": {
  "kernelspec": {
   "display_name": "Python 3",
   "language": "python",
   "name": "python3"
  },
  "language_info": {
   "codemirror_mode": {
    "name": "ipython",
    "version": 3
   },
   "file_extension": ".py",
   "mimetype": "text/x-python",
   "name": "python",
   "nbconvert_exporter": "python",
   "pygments_lexer": "ipython3",
   "version": "3.7.1"
  }
 },
 "nbformat": 4,
 "nbformat_minor": 2
}
