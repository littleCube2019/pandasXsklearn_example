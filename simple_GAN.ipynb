{
 "cells": [
  {
   "cell_type": "code",
   "execution_count": 1,
   "metadata": {},
   "outputs": [
    {
     "data": {
      "text/plain": [
       "True"
      ]
     },
     "execution_count": 1,
     "metadata": {},
     "output_type": "execute_result"
    }
   ],
   "source": [
    "from tensorflow import keras\n",
    "import tensorflow as tf\n",
    "import numpy as np\n",
    "import pickle\n",
    "import pandas as pd\n",
    "import numpy as np\n",
    "import tensorflow as tf\n",
    "from tensorflow import keras\n",
    "from tensorflow.keras import layers\n",
    "import matplotlib.pyplot as plt\n",
    "from sklearn.utils import shuffle\n",
    "tf.executing_eagerly()"
   ]
  },
  {
   "cell_type": "code",
   "execution_count": null,
   "metadata": {},
   "outputs": [],
   "source": [
    "class GAN(keras.Model):\n",
    "    def __init__( self , noise_vector_dim):\n",
    "        # 繼承Model的init， 第一個參數填這個class的名字\n",
    "        super(GAN, self).__init__()\n",
    "        # discriminator: 輸入圖片\n",
    "        self.noise_vector_dim = noise_vector_dim\n",
    "        self.discriminator = tf.keras.Sequential([ # 圖片 => 是否為generator製造\n",
    "          tf.keras.layers.Conv2D(2, 3, activation='relu', input_shape=(28,28,1)), #input \"一筆\" data的大小 (width ,height,deepth)  \n",
    "          tf.keras.layers.Flatten(),                    \n",
    "          tf.keras.layers.Dense(1 , activation=\"softmax\"),\n",
    "          ])\n",
    "        self.generator = tf.keras.Sequential([  # vector => 圖片\n",
    "          tf.keras.layers.Input(shape=(noise_vector_dim)),                 # 輸入一個noise vector                                     \n",
    "          tf.keras.layers.Dense(7 * 7 * 64, activation=\"relu\"),     # 經過以下變換回傳一張圖片\n",
    "          tf.keras.layers.Reshape((7,7,64)),\n",
    "          tf.keras.layers.Conv2DTranspose(64, kernel_size=3, strides=2, activation='relu', padding='same'),\n",
    "          tf.keras.layers.Conv2DTranspose(32, kernel_size=3, strides=2, activation='relu', padding='same'),\n",
    "          tf.keras.layers.Conv2DTranspose(1, 3, activation='sigmoid', padding='same')\n",
    "          ])\n",
    "        # compile\n",
    "        self.discriminator.compile(optimizer=\"adam\",loss=tf.keras.losses.BinaryCrossentropy()  )\n",
    "        # self.generator.compile(optimizer=\"adam\",loss=tf.keras.losses.MeanSquaredError()  )  實驗1:單純讓G學的input越像越好 , 有可能G早早卡在瓶頸，D早早太強， 如果mini batch慢慢餵，最後G也會卡住生出一坨一樣的東西(類似平均取最小值)  \n",
    "        self.generator.compile(optimizer=\"adam\",loss=tf.keras.losses.BinaryCrossentropy()  )\n",
    "\n",
    "        # *****關鍵***** 幫助G成長， G生成 => D辨認 => 結果如果被認為是0，就是被抓到，要有loss (==>視為每張圖G都認為自己是真的(1),被抓出來表示錯誤了(0))\n",
    "        self.stacked_generator_and_discriminator = self._stacked_generator_and_discriminator()\n",
    "        self.stacked_generator_and_discriminator.compile(optimizer=\"adam\",loss=tf.keras.losses.BinaryCrossentropy()  )\n",
    "    \n",
    "\n",
    "    def _stacked_generator_and_discriminator(self):\n",
    "        self.discriminator.trainable = False #這一步不更新D\n",
    "\n",
    "        model = tf.keras.Sequential()\n",
    "        model.add(self.generator)\n",
    "        model.add(self.discriminator)\n",
    "\n",
    "        return model\n",
    "\n",
    "    def train_one_step(self ,data_x ):\n",
    "\n",
    "        # 先後不可顛倒!因為Generator 是要依Discriminator去調整! (而不是和input像就好，參考實驗1)\n",
    "        # fake picture\n",
    "        fake = self.generator.predict(np.random.rand(len(x_train),self.noise_vector_dim))\n",
    "        real = data_x.reshape(data_x.shape[0],data_x.shape[1],data_x.shape[2],1) \n",
    "\n",
    "        #sample data for discriminator \n",
    "        length_of_data_for_discriminator = 1000  #實驗2: (可以調高試試)一次訓練資料太多可能會有一方輾壓，造成訓練失敗\n",
    "        real_index = np.random.choice(len(real) , length_of_data_for_discriminator//2)\n",
    "        fake_index = np.random.choice(len(fake) , length_of_data_for_discriminator//2)\n",
    "\n",
    "        x = np.concatenate ( (real[real_index] , fake[fake_index]) , axis = 0)  #choice 只能選一維，可以先選index ,再選位置!!! ，注意concatenate( (a,b) , axis)\n",
    "        y = np.concatenate ( (np.array([1 for i in range(length_of_data_for_discriminator//2)]) , np.array([0 for i in range(length_of_data_for_discriminator//2)])),axis = 0 )\n",
    "        x,y = shuffle(x,y) #sklearn\n",
    "        # training discriminator\n",
    "        print(\"discriminator training\")\n",
    "        self.discriminator.fit(x,y)\n",
    "\n",
    "        # Generator 一樣先生出資料 ==> 給discriminator辨識 ==> 用結果去更新G (可以把標籤顛倒，理由上面說過 )\n",
    "\n",
    "        #sample data for generator\n",
    "        length_of_data_for_generator = 1000 \n",
    "\n",
    "        noise = np.random.rand(length_of_data_for_generator,self.noise_vector_dim)\n",
    "        all_true_label = np.array([1 for i in range(length_of_data_for_generator)])  #看自己和\"全部都騙過\"相差多遠\n",
    "\n",
    "\n",
    "        #training generator\n",
    "        print(\"generator training\")\n",
    "        self.stacked_generator_and_discriminator.fit(noise , all_true_label)\n",
    "\n",
    "\n",
    "    \n",
    "    def train(self , data_x , epochs=5):\n",
    "        for i in range(epochs):\n",
    "            print(i+1,\"th step\")\n",
    "            self.train_one_step(data_x)\n",
    "            # random show image \n",
    "            one_pic = self.generator.predict(np.random.rand(1,self.noise_vector_dim))\n",
    "            plt.matshow(one_pic[0].reshape(28,28), cmap=plt.get_cmap('gray'))"
   ]
  },
  {
   "cell_type": "code",
   "execution_count": null,
   "metadata": {},
   "outputs": [],
   "source": [
    "gan = GAN(10)\n",
    "\n",
    "gan.train(x_train ,epochs=100)"
   ]
  },
  {
   "cell_type": "code",
   "execution_count": null,
   "metadata": {},
   "outputs": [],
   "source": [
    "# 隨機print出圖片\n",
    "test = np.random.rand(10,10)\n",
    "print(test)\n",
    "pics= gan.generator.predict(test)\n",
    "\n",
    "for pic in pics:\n",
    "    plt.matshow(pic.reshape(28,28), cmap=plt.get_cmap('gray'))"
   ]
  },
  {
   "cell_type": "code",
   "execution_count": null,
   "metadata": {},
   "outputs": [],
   "source": [
    "# 訓練到一半D把G打趴，可能會出現全黑的畫面 (G放棄了QQ)"
   ]
  }
 ],
 "metadata": {
  "kernelspec": {
   "display_name": "Python 3",
   "language": "python",
   "name": "python3"
  },
  "language_info": {
   "codemirror_mode": {
    "name": "ipython",
    "version": 3
   },
   "file_extension": ".py",
   "mimetype": "text/x-python",
   "name": "python",
   "nbconvert_exporter": "python",
   "pygments_lexer": "ipython3",
   "version": "3.7.1"
  }
 },
 "nbformat": 4,
 "nbformat_minor": 2
}
